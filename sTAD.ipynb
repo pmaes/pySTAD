{
 "cells": [
  {
   "cell_type": "code",
   "execution_count": null,
   "metadata": {},
   "outputs": [],
   "source": [
    "import sTAD\n",
    "import pandas as pd\n",
    "import numpy as np\n",
    "from colour import Color\n",
    "from sklearn.metrics.pairwise import cosine_distances, euclidean_distances\n",
    "import pydot\n",
    "from IPython.display import Image, display\n",
    "from Levenshtein import distance\n",
    "import matplotlib as plt\n",
    "from holoviews import opts\n",
    "\n",
    "from importlib import reload\n",
    "\n",
    "from bokeh.models import HoverTool\n",
    "import matplotlib.pyplot as plt"
   ]
  },
  {
   "cell_type": "code",
   "execution_count": null,
   "metadata": {},
   "outputs": [],
   "source": [
    "# sTAD.debug = True"
   ]
  },
  {
   "cell_type": "code",
   "execution_count": null,
   "metadata": {},
   "outputs": [],
   "source": [
    "import holoviews as hv\n",
    "hv.extension('bokeh')\n",
    "\n",
    "np.set_printoptions(precision=1,linewidth=220)"
   ]
  },
  {
   "cell_type": "markdown",
   "metadata": {},
   "source": [
    "# Load data"
   ]
  },
  {
   "cell_type": "code",
   "execution_count": null,
   "metadata": {},
   "outputs": [],
   "source": [
    "dataset = 'circles'\n",
    "values = None\n",
    "colours = []\n",
    "dist_matrix = None\n",
    "\n",
    "sample_size = 200\n",
    "\n",
    "if ( dataset == 'sim' ):\n",
    "    data = pd.read_csv('data/simulated.csv', header=0)\n",
    "    values = data[['x','y']]\n",
    "    dist_matrix = euclidean_distances(values)\n",
    "elif (dataset == 'fork'):\n",
    "    data = pd.read_csv('data/simulated_fork.csv', header=0)\n",
    "elif (dataset == 'iris' ):\n",
    "    data = pd.read_csv('data/iris.csv', header=0)\n",
    "    values = list(map(lambda x:x[0:4], data.values))\n",
    "    colours = list(map(lambda x:x[4], data.values))\n",
    "    dist_matrix = euclidean_distances(values)\n",
    "    data['lens'] = data['sepal_length']\n",
    "    data = sTAD.assign_bins(data, 8)\n",
    "elif (dataset == 'horse' ):\n",
    "    horse = pd.read_csv('data/horse.csv', header=None)\n",
    "    data = horse.sample(n=sample_size)\n",
    "    data.columns = ['x','y','z']\n",
    "\n",
    "    domain_min = np.min(data['x'])\n",
    "    domain_max = np.max(data['x'])\n",
    "    hues = list(sTAD.normalize(data['x'], domain_min, domain_max, 0, 1))\n",
    "\n",
    "    colours = list(map(lambda x:Color(hsl=(x,1,0.5)).hex_l, hues))\n",
    "    dist_matrix = euclidean_distances(data)\n",
    "elif (dataset == 'eqtl'):\n",
    "    data = pd.read_csv('data/compressed_eqtl_ambiguity.csv', header=None)[0]\n",
    "    dist_matrix = levenshtein_matrix(data)\n",
    "#     values = data[['CDH1','CDH10','CDH11','CDH19','PCDH1','PCDH10','PCDH17','PCDH19','PCDH8','CDH2','CDH22','CDH5','CDH6','CDH7','CDH9']]\n",
    "#     data['lens'] = data['CDH1']\n",
    "#     data = sTAD.assign_bins(data,20)\n",
    "elif (dataset == 'circles'):\n",
    "    data = pd.read_csv('data/five_circles.csv', header=0)\n",
    "    data['lens'] = data['hue']\n",
    "    values = data[['x','y']]\n",
    "    data = sTAD.assign_bins(data, 8)\n",
    "    dist_matrix = euclidean_distances(values)\n",
    "else:\n",
    "    raise Exception(\"Unknown dataset\")"
   ]
  },
  {
   "cell_type": "code",
   "execution_count": null,
   "metadata": {},
   "outputs": [],
   "source": [
    "data"
   ]
  },
  {
   "cell_type": "code",
   "execution_count": null,
   "metadata": {},
   "outputs": [],
   "source": [
    "tooltips = [\n",
    "    ('id', '@id'),\n",
    "    ('x', '@x'),\n",
    "    ('y', '@y'),\n",
    "    ('bin', '@bin')\n",
    "]\n",
    "hover = HoverTool(tooltips=tooltips)"
   ]
  },
  {
   "cell_type": "code",
   "execution_count": null,
   "metadata": {},
   "outputs": [],
   "source": [
    "%%opts Points [width=600, tools=[hover]]\n",
    "points = hv.Points(data, ['x','y'], extents=(0,0,1200,1200))\n",
    "points.opts(size=5, color='hue')\n",
    "points"
   ]
  },
  {
   "cell_type": "code",
   "execution_count": null,
   "metadata": {},
   "outputs": [],
   "source": [
    "dist_matrix = sTAD.normalize_matrix(dist_matrix)"
   ]
  },
  {
   "cell_type": "markdown",
   "metadata": {},
   "source": [
    "# Without lens"
   ]
  },
  {
   "cell_type": "code",
   "execution_count": null,
   "metadata": {},
   "outputs": [],
   "source": [
    "mst_graph, mst, non_mst, cmdm, dm_distances = sTAD.create_mst(dist_matrix)"
   ]
  },
  {
   "cell_type": "code",
   "execution_count": null,
   "metadata": {},
   "outputs": [],
   "source": [
    "reload(sTAD)\n",
    "sTAD.debug = True"
   ]
  },
  {
   "cell_type": "code",
   "execution_count": null,
   "metadata": {},
   "outputs": [],
   "source": [
    "history_x, history_y, history_graph = sTAD.create_complete_plot(dist_matrix, res=40)"
   ]
  },
  {
   "cell_type": "code",
   "execution_count": null,
   "metadata": {},
   "outputs": [],
   "source": [
    "%%opts Scatter [width=600, tools=[\"hover\"]]\n",
    "hv.Scatter((sTAD.history_x,sTAD.history_y), extents=(-100,0.8,5000,1))"
   ]
  },
  {
   "cell_type": "code",
   "execution_count": null,
   "metadata": {},
   "outputs": [],
   "source": [
    "reload(sTAD)\n",
    "result = sTAD.find_stad_optimum(dist_matrix)"
   ]
  },
  {
   "cell_type": "code",
   "execution_count": null,
   "metadata": {},
   "outputs": [],
   "source": [
    "hv.Curve(sTAD.history_y, extents=(-10,0.88,350,1))"
   ]
  },
  {
   "cell_type": "code",
   "execution_count": null,
   "metadata": {},
   "outputs": [],
   "source": [
    "g = sTAD.create_network(result[0], mst, non_mst)"
   ]
  },
  {
   "cell_type": "code",
   "execution_count": null,
   "metadata": {},
   "outputs": [],
   "source": [
    "import csv\n",
    "g.vs['color'] = data['hue']\n",
    "g.vs['bin'] = list(map(lambda x:str(x), (data['bin'])))\n",
    "with open(dataset + '_' + str(result[0]) + '_nodes.csv', 'w') as f:\n",
    "    file_writer = csv.writer(f, delimiter=',', quotechar='\"', quoting=csv.QUOTE_MINIMAL)\n",
    "    file_writer.writerow(['id','name','color','bin'])\n",
    "    counter = 0\n",
    "    for v in g.vs:\n",
    "        file_writer.writerow([v.index, v.index, v['color'], v['bin']])\n",
    "        counter += 1\n",
    "with open(dataset + '_' + str(result[0]) + '_edges.csv', 'w') as f:\n",
    "    file_writer = csv.writer(f, delimiter=',', quotechar='\"', quoting=csv.QUOTE_MINIMAL)\n",
    "    file_writer.writerow(['source','target'])\n",
    "    for e in g.es:\n",
    "        file_writer.writerow([e.tuple[0], e.tuple[1]])"
   ]
  },
  {
   "cell_type": "markdown",
   "metadata": {},
   "source": [
    "# With lens"
   ]
  },
  {
   "cell_type": "code",
   "execution_count": null,
   "metadata": {},
   "outputs": [],
   "source": [
    "dist_matrix_with_lens = sTAD.alter_dist_matrix_1step(dist_matrix, data)"
   ]
  },
  {
   "cell_type": "code",
   "execution_count": null,
   "metadata": {},
   "outputs": [],
   "source": [
    "mst_graph_lens, mst_lens, non_mst_lens, cmdm_lens, dm_distances_lens = sTAD.create_mst(dist_matrix_with_lens)"
   ]
  },
  {
   "cell_type": "code",
   "execution_count": null,
   "metadata": {},
   "outputs": [],
   "source": [
    "history_x, history_y, history_graph = sTAD.create_complete_plot(dist_matrix_with_lens, res=40)"
   ]
  },
  {
   "cell_type": "code",
   "execution_count": null,
   "metadata": {},
   "outputs": [],
   "source": [
    "hv.Curve(sTAD.history_y, extents=(-10,0.1,50,1))"
   ]
  },
  {
   "cell_type": "code",
   "execution_count": null,
   "metadata": {},
   "outputs": [],
   "source": [
    "%%opts Scatter [width=600, tools=[\"hover\"]]\n",
    "hv.Scatter((sTAD.history_x, sTAD.history_y), extents=(0,0,100000,1))"
   ]
  },
  {
   "cell_type": "code",
   "execution_count": null,
   "metadata": {},
   "outputs": [],
   "source": [
    "result = sTAD.find_stad_optimum(dist_matrix_with_lens)"
   ]
  },
  {
   "cell_type": "code",
   "execution_count": null,
   "metadata": {},
   "outputs": [],
   "source": [
    "hv.Curve(sTAD.history_y, extents=(-10,0,350,0.4))"
   ]
  },
  {
   "cell_type": "code",
   "execution_count": null,
   "metadata": {},
   "outputs": [],
   "source": [
    "print(result)"
   ]
  },
  {
   "cell_type": "code",
   "execution_count": null,
   "metadata": {},
   "outputs": [],
   "source": [
    "g = sTAD.create_network(result[0], mst_lens, non_mst_lens)"
   ]
  },
  {
   "cell_type": "code",
   "execution_count": null,
   "metadata": {},
   "outputs": [],
   "source": [
    "import csv\n",
    "g.vs['color'] = data['hue']\n",
    "g.vs['bin'] = list(map(lambda x:str(x), (data['bin'])))\n",
    "with open(dataset + '_' + str(result[0]) + '_lens_nodes.csv', 'w') as f:\n",
    "    file_writer = csv.writer(f, delimiter=',', quotechar='\"', quoting=csv.QUOTE_MINIMAL)\n",
    "    file_writer.writerow(['id','name','color','bin'])\n",
    "    counter = 0\n",
    "    for v in g.vs:\n",
    "        file_writer.writerow([v.index, v.index, v['color'], v['bin']])\n",
    "        counter += 1\n",
    "with open(dataset + '_' + str(result[0]) + '_lens_edges.csv', 'w') as f:\n",
    "    file_writer = csv.writer(f, delimiter=',', quotechar='\"', quoting=csv.QUOTE_MINIMAL)\n",
    "    file_writer.writerow(['source','target'])\n",
    "    for e in g.es:\n",
    "        file_writer.writerow([e.tuple[0], e.tuple[1]])"
   ]
  },
  {
   "cell_type": "code",
   "execution_count": null,
   "metadata": {},
   "outputs": [],
   "source": []
  }
 ],
 "metadata": {
  "kernelspec": {
   "display_name": "Python 3",
   "language": "python",
   "name": "python3"
  },
  "language_info": {
   "codemirror_mode": {
    "name": "ipython",
    "version": 3
   },
   "file_extension": ".py",
   "mimetype": "text/x-python",
   "name": "python",
   "nbconvert_exporter": "python",
   "pygments_lexer": "ipython3",
   "version": "3.6.8"
  },
  "varInspector": {
   "cols": {
    "lenName": 16,
    "lenType": 16,
    "lenVar": 40
   },
   "kernels_config": {
    "python": {
     "delete_cmd_postfix": "",
     "delete_cmd_prefix": "del ",
     "library": "var_list.py",
     "varRefreshCmd": "print(var_dic_list())"
    },
    "r": {
     "delete_cmd_postfix": ") ",
     "delete_cmd_prefix": "rm(",
     "library": "var_list.r",
     "varRefreshCmd": "cat(var_dic_list()) "
    }
   },
   "types_to_exclude": [
    "module",
    "function",
    "builtin_function_or_method",
    "instance",
    "_Feature"
   ],
   "window_display": false
  }
 },
 "nbformat": 4,
 "nbformat_minor": 2
}
