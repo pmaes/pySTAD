{
 "cells": [
  {
   "cell_type": "markdown",
   "metadata": {},
   "source": [
    "# Functions"
   ]
  },
  {
   "cell_type": "code",
   "execution_count": null,
   "metadata": {},
   "outputs": [],
   "source": [
    "# !pip install git+https://github.com/holoviz/panel.git"
   ]
  },
  {
   "cell_type": "code",
   "execution_count": null,
   "metadata": {},
   "outputs": [],
   "source": [
    "import pandas as pd\n",
    "import igraph as ig\n",
    "import numpy as np\n",
    "from copy import deepcopy\n",
    "from sklearn.metrics.pairwise import cosine_distances, euclidean_distances\n",
    "from scipy import optimize"
   ]
  },
  {
   "cell_type": "code",
   "execution_count": null,
   "metadata": {},
   "outputs": [],
   "source": [
    "import panel as pn\n",
    "import vega\n",
    "pn.extension('vega')"
   ]
  },
  {
   "cell_type": "markdown",
   "metadata": {},
   "source": [
    "## Functions only for testing"
   ]
  },
  {
   "cell_type": "code",
   "execution_count": null,
   "metadata": {
    "code_folding": [
     0
    ]
   },
   "outputs": [],
   "source": [
    "def hex_to_number(hex):\n",
    "    h = tuple(int(hex.lstrip('#')[i:i+2], 16) for i in (0, 2, 4))\n",
    "    return h[0]"
   ]
  },
  {
   "cell_type": "code",
   "execution_count": null,
   "metadata": {},
   "outputs": [],
   "source": [
    "def normalise_number_between_0_and_1(nr, domain_min, domain_max):\n",
    "    return (nr-domain_min)/(domain_max - domain_min)\n",
    "\n",
    "def normalise_number_between_0_and_255(nr, domain_min, domain_max):\n",
    "    return 255*normalise_number_between_0_and_1(nr, domain_min, domain_max)"
   ]
  },
  {
   "cell_type": "markdown",
   "metadata": {},
   "source": [
    "## Load data"
   ]
  },
  {
   "cell_type": "code",
   "execution_count": null,
   "metadata": {},
   "outputs": [],
   "source": [
    "def load_data(dataset):\n",
    "    if dataset == 'horse':\n",
    "        data = pd.read_csv('data/horse.csv', header=0)\n",
    "        data = data.sample(n=1000)\n",
    "        values = data[['x','y','z']].values.tolist()\n",
    "        x_min = min(data['x'])\n",
    "        x_max = max(data['x'])\n",
    "        xs = data['x'].values\n",
    "        ys = data['y'].values\n",
    "        # zs = data['z'].values\n",
    "        colours = data['x'].map(lambda x:normalise_number_between_0_and_255(x, x_min, x_max)).values\n",
    "        return(values, xs, ys, colours)\n",
    "    elif dataset == 'simulated':\n",
    "        data = pd.read_csv('data/sim.csv', header=0)\n",
    "        values = data[['x','y']]\n",
    "        xs = data['x'].values\n",
    "        ys = data['y'].values\n",
    "        colours = np.zeros(1)\n",
    "        return(values, xs, ys, colours)\n",
    "    elif dataset == 'circles':\n",
    "        data = pd.read_csv('data/five_circles.csv', header=0)\n",
    "        values = data[['x','y']].values.tolist()\n",
    "        xs = data['x'].values\n",
    "        ys = data['y'].values\n",
    "        colours = list(data['hue'].map(lambda x:hex_to_number(x)))\n",
    "        return(values, xs, ys, colours)\n",
    "    else:\n",
    "        print(\"Dataset not known\")"
   ]
  },
  {
   "cell_type": "code",
   "execution_count": null,
   "metadata": {
    "code_folding": []
   },
   "outputs": [],
   "source": [
    "def calculate_highD_dist_matrix(data):\n",
    "    return euclidean_distances(data)"
   ]
  },
  {
   "cell_type": "markdown",
   "metadata": {},
   "source": [
    "## Create MST"
   ]
  },
  {
   "cell_type": "code",
   "execution_count": null,
   "metadata": {
    "code_folding": []
   },
   "outputs": [],
   "source": [
    "def matrix_to_topright_array(matrix):\n",
    "    for i, vector in enumerate(matrix):\n",
    "        for j, value in enumerate(vector):\n",
    "            if ( j > i ):\n",
    "                yield value"
   ]
  },
  {
   "cell_type": "code",
   "execution_count": null,
   "metadata": {
    "code_folding": [
     0
    ]
   },
   "outputs": [],
   "source": [
    "def matrix_to_all_combinations(matrix):\n",
    "    for i, vector in enumerate(highD_dist_matrix):\n",
    "        for j, value in enumerate(vector):\n",
    "            if ( j > i ):\n",
    "                yield [i,j]"
   ]
  },
  {
   "cell_type": "code",
   "execution_count": null,
   "metadata": {
    "code_folding": [],
    "scrolled": true
   },
   "outputs": [],
   "source": [
    "def create_mst(dist_matrix, xs, ys, colours):\n",
    "    complete_graph = ig.Graph.Full(len(dist_matrix[0]))\n",
    "    complete_graph.vs[\"x\"] = xs\n",
    "    complete_graph.vs[\"y\"] = ys\n",
    "    complete_graph.vs[\"colour\"] = colours\n",
    "    complete_graph.es[\"distance\"] = list(matrix_to_topright_array(dist_matrix))\n",
    "    return complete_graph.spanning_tree(weights = list(matrix_to_topright_array(dist_matrix)))"
   ]
  },
  {
   "cell_type": "markdown",
   "metadata": {},
   "source": [
    "## Draw the graph"
   ]
  },
  {
   "cell_type": "code",
   "execution_count": null,
   "metadata": {
    "code_folding": [
     0,
     4,
     8
    ]
   },
   "outputs": [],
   "source": [
    "def create_vega_nodes(graph):\n",
    "    for v in graph.vs():\n",
    "        yield({\"name\": v.index, \"x\": v.attributes()['x'], \"y\": v.attributes()['y'], \"colour\": v.attributes()['colour']})\n",
    "\n",
    "def create_vega_links(graph):\n",
    "    for e in graph.es():\n",
    "        yield({\"source\": e.source, \"target\": e.target, \"value\": e.attributes()['distance']})\n",
    "\n",
    "def create_gephi_files(graph, filename):\n",
    "    with open(filename + '_nodes.csv', 'w') as f:\n",
    "        f.write(\"x\\ty\\tcolour\\n\")\n",
    "        counter = 0\n",
    "        for v in graph.vs():\n",
    "            f.write(str(v.attributes()['x']) + \"\\t\" + str(v.attributes()['y']) + \"\\t\" + str(v.attributes()['colour']) + \"\\n\")\n",
    "            counter += 1\n",
    "    with open(filename + '_edges.csv', 'w') as f:\n",
    "        f.write(\"source\\ttarget\\tvalue\\n\")\n",
    "        for e in graph.es():\n",
    "            f.write(str(e.source) + \"\\t\" + str(e.target) + \"\\t\" + str(e.attributes()['distance']) + \"\\n\")"
   ]
  },
  {
   "cell_type": "code",
   "execution_count": null,
   "metadata": {
    "code_folding": []
   },
   "outputs": [],
   "source": [
    "def draw_stad(dataset, graph):\n",
    "    strength_picker = pn.widgets.IntSlider(name='Attraction strength', start=-10, end=1, step=1, value=-3)\n",
    "    distance_picker = pn.widgets.IntSlider(name='Distance between nodes', start=1, end=30, step=1, value=15)\n",
    "    radius_picker = pn.widgets.IntSlider(name='Node radius', start=1, end=5, step=1, value=5)\n",
    "    theta_picker = pn.widgets.FloatSlider(name='Theta', start=0.1, end=1.5, step=0.1, value=0.9)\n",
    "    distance_max_picker = pn.widgets.IntSlider(name='Max distance cap', start=0, end=300, step=20, value=100)\n",
    "    strength_picker.width = 100\n",
    "    distance_picker.width = 100\n",
    "    radius_picker.width = 100\n",
    "    theta_picker.width = 100\n",
    "    distance_max_picker.width = 100\n",
    "\n",
    "    @pn.depends(strength_picker.param.value, distance_picker.param.value, radius_picker.param.value, theta_picker.param.value, distance_max_picker.param.value)\n",
    "    def plot(strength, distance, radius, theta, distance_max):\n",
    "        nodes = list(create_vega_nodes(graph))\n",
    "        links = list(create_vega_links(graph))\n",
    "        nodes_string = str(nodes).replace(\"'\", '\"')\n",
    "        links_string = str(links).replace(\"'\", '\"')\n",
    "        return pn.pane.Vega({\n",
    "          \"$schema\": \"https://vega.github.io/schema/vega/v5.json\",\n",
    "          \"width\": 1000,\n",
    "          \"height\": 1000,\n",
    "          \"padding\": 0,\n",
    "          \"autosize\": \"none\",\n",
    "\n",
    "          \"signals\": [\n",
    "            { \"name\": \"cx\", \"update\": \"width / 2\" },\n",
    "            { \"name\": \"cy\", \"update\": \"height / 2\" },\n",
    "            {\n",
    "              \"description\": \"State variable for active node dragged status.\",\n",
    "              \"name\": \"dragged\", \"value\": 0,\n",
    "              \"on\": [\n",
    "                {\n",
    "                  \"events\": \"symbol:mouseout[!event.buttons], window:mouseup\",\n",
    "                  \"update\": \"0\"\n",
    "                },\n",
    "                {\n",
    "                  \"events\": \"symbol:mouseover\",\n",
    "                  \"update\": \"dragged || 1\"\n",
    "                },\n",
    "                {\n",
    "                  \"events\": \"[symbol:mousedown, window:mouseup] > window:mousemove!\",\n",
    "                  \"update\": \"2\", \"force\": True\n",
    "                }\n",
    "              ]\n",
    "            },\n",
    "            {\n",
    "              \"description\": \"Graph node most recently interacted with.\",\n",
    "              \"name\": \"dragged_node\", \"value\": None,\n",
    "              \"on\": [\n",
    "                {\n",
    "                  \"events\": \"symbol:mouseover\",\n",
    "                  \"update\": \"dragged === 1 ? item() : dragged_node\"\n",
    "                }\n",
    "              ]\n",
    "            },\n",
    "            {\n",
    "              \"description\": \"Flag to restart Force simulation upon data changes.\",\n",
    "              \"name\": \"restart\", \"value\": False,\n",
    "              \"on\": [\n",
    "                {\"events\": {\"signal\": \"dragged\"}, \"update\": \"dragged > 1\"}\n",
    "              ]\n",
    "            }\n",
    "          ],\n",
    "          \"scales\": [\n",
    "            {\n",
    "              \"name\": \"colour\",\n",
    "              \"type\": \"linear\",\n",
    "              \"domain\": {\"data\": \"node-data\", \"field\": \"colour\"},\n",
    "              \"range\": {\"scheme\": \"oranges\"}\n",
    "            }\n",
    "          ],\n",
    "\n",
    "          \"data\": [\n",
    "            {\n",
    "              \"name\": \"node-data\",\n",
    "              \"values\": nodes\n",
    "            },\n",
    "            {\n",
    "              \"name\": \"link-data\",\n",
    "              \"values\": links\n",
    "            }\n",
    "          ],\n",
    "\n",
    "          \"marks\": [\n",
    "            {\n",
    "              \"name\": \"nodes\",\n",
    "              \"type\": \"symbol\",\n",
    "              \"zindex\": 1,\n",
    "\n",
    "              \"from\": {\"data\": \"node-data\"},\n",
    "              \"on\": [\n",
    "                {\n",
    "                  \"trigger\": \"dragged\",\n",
    "                  \"modify\": \"dragged_node\",\n",
    "                  \"values\": \"dragged === 1 ? {fx:dragged_node.x, fy:dragged_node.y} : {fx:x(), fy:y()}\"\n",
    "                },\n",
    "                {\n",
    "                  \"trigger\": \"!dragged\",\n",
    "                  \"modify\": \"dragged_node\", \"values\": \"{fx: null, fy: null}\"\n",
    "                }\n",
    "              ],\n",
    "\n",
    "              \"encode\": {\n",
    "                \"enter\": {\n",
    "                  \"fill\": {\"field\": \"colour\", \"scale\": \"colour\"},\n",
    "                  \"tooltip\": {\"field\": \"x\"}\n",
    "                },\n",
    "                \"update\": {\n",
    "                  \"size\": {\"value\": 50},\n",
    "                  \"cursor\": {\"value\": \"pointer\"}\n",
    "                }\n",
    "              },\n",
    "\n",
    "              \"transform\": [\n",
    "                {\n",
    "                  \"type\": \"force\",\n",
    "                  \"iterations\": 300,\n",
    "                  \"velocityDecay\": 0.5,\n",
    "                  \"restart\": {\"signal\": \"restart\"},\n",
    "                  \"static\": False,\n",
    "                  \"forces\": [\n",
    "                    {\"force\": \"center\", \"x\": {\"signal\": \"cx\"}, \"y\": {\"signal\": \"cy\"}},\n",
    "                    {\"force\": \"collide\", \"radius\": radius},\n",
    "                    {\"force\": \"nbody\", \"strength\": strength, \"theta\": theta, \"distanceMax\": distance_max},\n",
    "                    {\"force\": \"link\", \"links\": \"link-data\", \"distance\": distance}\n",
    "                  ]\n",
    "                }\n",
    "              ]\n",
    "            },\n",
    "            {\n",
    "              \"type\": \"path\",\n",
    "              \"from\": {\"data\": \"link-data\"},\n",
    "              \"interactive\": False,\n",
    "              \"encode\": {\n",
    "                \"update\": {\n",
    "                  \"stroke\": {\"value\": \"lightgrey\"}\n",
    "                }\n",
    "              },\n",
    "              \"transform\": [\n",
    "                {\n",
    "                  \"type\": \"linkpath\", \"shape\": \"line\",\n",
    "                  \"sourceX\": \"datum.source.x\", \"sourceY\": \"datum.source.y\",\n",
    "                  \"targetX\": \"datum.target.x\", \"targetY\": \"datum.target.y\"\n",
    "                }\n",
    "              ]\n",
    "            }\n",
    "          ]\n",
    "        })\n",
    "\n",
    "    return pn.Row(pn.Column(pn.pane.Markdown(\"## Dataset: \" + dataset),strength_picker, distance_picker, radius_picker, theta_picker, distance_max_picker), plot).show()\n",
    "\n",
    "# draw_stad(mst)"
   ]
  },
  {
   "cell_type": "markdown",
   "metadata": {},
   "source": [
    "## Graph to distance matrix"
   ]
  },
  {
   "cell_type": "code",
   "execution_count": null,
   "metadata": {
    "code_folding": [
     0
    ]
   },
   "outputs": [],
   "source": [
    "def graph_to_distancematrix(graph):\n",
    "    return graph.shortest_paths_dijkstra()"
   ]
  },
  {
   "cell_type": "markdown",
   "metadata": {},
   "source": [
    "## Calculate correlation"
   ]
  },
  {
   "cell_type": "code",
   "execution_count": null,
   "metadata": {
    "code_folding": [
     0
    ]
   },
   "outputs": [],
   "source": [
    "def correlation_between_distance_matrices(matrix1, matrix2):\n",
    "    '''\n",
    "    correlation_between_distance_matrices(highD_dist_matrix, list(graph_to_distancematrix(mst)))}\n",
    "    '''\n",
    "    return np.corrcoef(matrix1.flatten(), np.asarray(matrix2).flatten())[0][1]"
   ]
  },
  {
   "cell_type": "markdown",
   "metadata": {},
   "source": [
    "## Create list of links to add\n",
    "\n",
    "We'll store everything into an array of dictionaries with these keys: `from` (row in the original distance matrix), `to` (column in the original distance matrix), `highDd` (distance in high-dimensional space), `graphd` (graph distance), `e` (error). E.g.\n",
    "\n",
    "```\n",
    "[\n",
    "    { from: 0,\n",
    "      to: 1,\n",
    "      highDd: 1.0,\n",
    "      graphd: 1,\n",
    "      e: 0 },\n",
    "    { from: 0,\n",
    "      to: 2,\n",
    "      highDd: 2.236,\n",
    "      graphd: 2,\n",
    "      e: 0.236 },\n",
    "    ...\n",
    "```\n",
    "\n",
    "We need to have a list of all combinations of nodes (i.e. all possible links) with an indication on how wrong each is. For this we'll normalise the 2 matrices, substract them and see which node-pairs are most wrong."
   ]
  },
  {
   "cell_type": "code",
   "execution_count": null,
   "metadata": {
    "code_folding": [
     0
    ]
   },
   "outputs": [],
   "source": [
    "def normalise_matrix(mtx):\n",
    "    '''\n",
    "    Make all values in a matrix to be between 0 and 1\n",
    "    '''\n",
    "    return (mtx - np.min(mtx))/np.ptp(mtx)"
   ]
  },
  {
   "cell_type": "code",
   "execution_count": null,
   "metadata": {
    "code_folding": [
     0
    ]
   },
   "outputs": [],
   "source": [
    "def identify_error_in_distances(mtx1, mtx2):\n",
    "    '''\n",
    "    Substract distance matrices. Should be used to substract\n",
    "    the original distance matrix from the graph distance matrix.\n",
    "    '''\n",
    "    return normalise_matrix(mtx1) - normalise_matrix(mtx2)\n",
    "\n",
    "# identify_error_in_distances(highD_dist_matrix, graph_to_distancematrix(mst))"
   ]
  },
  {
   "cell_type": "code",
   "execution_count": null,
   "metadata": {
    "code_folding": []
   },
   "outputs": [],
   "source": [
    "def create_list_of_all_links_with_values(highD_dist_matrix):\n",
    "    '''\n",
    "    This function creates the full list: \n",
    "    [\n",
    "        { from: 0,\n",
    "          to: 1,\n",
    "          highDd: 1.0 },\n",
    "        { from: 0,\n",
    "          to: 2,\n",
    "          highDd: 2.236 },\n",
    "        ...\n",
    "    '''\n",
    "    all_links = []\n",
    "    l = len(highD_dist_matrix[0])\n",
    "    for i in range(0,l):\n",
    "        for j in range(i+1, l):\n",
    "            all_links.append({\n",
    "                'from': i,\n",
    "                'to': j,\n",
    "                'highDd': highD_dist_matrix[i][j]\n",
    "            })\n",
    "    return all_links"
   ]
  },
  {
   "cell_type": "markdown",
   "metadata": {},
   "source": [
    "## Remove links that are already in MST"
   ]
  },
  {
   "cell_type": "code",
   "execution_count": null,
   "metadata": {
    "code_folding": []
   },
   "outputs": [],
   "source": [
    "def create_list_of_links_to_add(list_of_links, graph):\n",
    "    '''\n",
    "    This removes all MST links and sorts all based on distance\n",
    "    '''\n",
    "    output = deepcopy(list_of_links)\n",
    "    for e in graph.es():\n",
    "        elements = list(filter(lambda x:x['to'] == e.target and x['from'] == e.source, list_of_links))\n",
    "        output.remove(elements[0])\n",
    "    output.sort(key = lambda x: x['highDd']) ## IMPORTANT!\n",
    "    return output"
   ]
  },
  {
   "cell_type": "markdown",
   "metadata": {},
   "source": [
    "## Sort links"
   ]
  },
  {
   "cell_type": "markdown",
   "metadata": {},
   "source": [
    "## Add links to graph"
   ]
  },
  {
   "cell_type": "code",
   "execution_count": null,
   "metadata": {
    "code_folding": []
   },
   "outputs": [],
   "source": [
    "def add_links_to_graph(graph, highD_dist_matrix, list_of_links_to_add, n):\n",
    "    new_graph = deepcopy(graph)\n",
    "    new_graph.add_edges(list(map(lambda x:(x['from'],x['to']), list_of_links_to_add[:int(n)])))\n",
    "    distances = []\n",
    "    for e in new_graph.es():\n",
    "        distances.append(highD_dist_matrix[e.source][e.target])\n",
    "    new_graph.es()['distance'] = distances\n",
    "    return new_graph"
   ]
  },
  {
   "cell_type": "markdown",
   "metadata": {},
   "source": [
    "## Using basinhopping\n",
    "See http://atomicglobalmin.sourceforge.net/algorithms/sim.html for difference between basinhopping and simulated annealing"
   ]
  },
  {
   "cell_type": "code",
   "execution_count": null,
   "metadata": {},
   "outputs": [],
   "source": [
    "def cost_function(nr_of_links, args):\n",
    "    graph = args['graph']\n",
    "    list_of_links_to_add = args['list_of_links_to_add']\n",
    "    highD_dist_matrix = args['highD_dist_matrix']\n",
    "    \n",
    "    new_graph = add_links_to_graph(graph, highD_dist_matrix, list_of_links_to_add, nr_of_links)\n",
    "    return 1 - correlation_between_distance_matrices(highD_dist_matrix, list(graph_to_distancematrix(new_graph)))"
   ]
  },
  {
   "cell_type": "code",
   "execution_count": null,
   "metadata": {},
   "outputs": [],
   "source": [
    "def run_basinhopping(cf, mst, links_to_add, highD_dist_matrix, debug = False):\n",
    "    '''\n",
    "    Returns new graph.\n",
    "        cf = cost_function\n",
    "        start = start x\n",
    "    '''\n",
    "    disp = False\n",
    "    if debug: disp = True\n",
    "    start = len(mst.es())\n",
    "    minimizer_kwargs = {'args':{'graph':mst,'list_of_links_to_add':links_to_add,'highD_dist_matrix':highD_dist_matrix}}\n",
    "    result = optimize.basinhopping(\n",
    "        cf,\n",
    "        start,\n",
    "        disp=disp,\n",
    "        minimizer_kwargs=minimizer_kwargs\n",
    "    )\n",
    "    if debug:\n",
    "        print(result)\n",
    "    g = add_links_to_graph(mst, highD_dist_matrix, links_to_add, result.x[0])\n",
    "    return g"
   ]
  },
  {
   "cell_type": "markdown",
   "metadata": {},
   "source": [
    "## Bringing everything together"
   ]
  },
  {
   "cell_type": "code",
   "execution_count": null,
   "metadata": {},
   "outputs": [],
   "source": [
    "def run_stad(values, xs, ys, colours, debug=False):\n",
    "    if debug: print(\"Calculating highD distance matrix\")\n",
    "    highD_dist_matrix = calculate_highD_dist_matrix(values)\n",
    "    if debug: print(\"Calculating MST\")\n",
    "    mst = create_mst(highD_dist_matrix, xs, ys, colours)\n",
    "    if debug: print(\"Creating list of all links\")\n",
    "    all_links = create_list_of_all_links_with_values(highD_dist_matrix)\n",
    "    if debug: print(\"Removing MST links and sorting\")\n",
    "    list_of_links_to_add = create_list_of_links_to_add(all_links, mst)\n",
    "    \n",
    "    g = run_basinhopping(\n",
    "            cost_function,\n",
    "            mst,\n",
    "            list_of_links_to_add,\n",
    "            highD_dist_matrix,\n",
    "            debug=debug)\n",
    "    return g"
   ]
  },
  {
   "cell_type": "markdown",
   "metadata": {},
   "source": [
    "# Actually running things"
   ]
  },
  {
   "cell_type": "code",
   "execution_count": null,
   "metadata": {
    "code_folding": []
   },
   "outputs": [],
   "source": [
    "# dataset = 'circles'\n",
    "dataset = 'horse'\n",
    "# dataset = 'simulated'"
   ]
  },
  {
   "cell_type": "code",
   "execution_count": null,
   "metadata": {},
   "outputs": [],
   "source": [
    "%%time\n",
    "values, xs, ys, colours = load_data(dataset)"
   ]
  },
  {
   "cell_type": "code",
   "execution_count": null,
   "metadata": {},
   "outputs": [],
   "source": [
    "%%time\n",
    "g = run_stad(values, xs, ys, colours, debug=True)"
   ]
  },
  {
   "cell_type": "code",
   "execution_count": null,
   "metadata": {},
   "outputs": [],
   "source": [
    "draw_stad(dataset, g)"
   ]
  },
  {
   "cell_type": "code",
   "execution_count": null,
   "metadata": {},
   "outputs": [],
   "source": [
    "# create_gephi_files(g, dataset)"
   ]
  },
  {
   "cell_type": "code",
   "execution_count": null,
   "metadata": {},
   "outputs": [],
   "source": []
  }
 ],
 "metadata": {
  "jupytext": {
   "formats": "ipynb,md"
  },
  "kernelspec": {
   "display_name": "Python 3",
   "language": "python",
   "name": "python3"
  },
  "language_info": {
   "codemirror_mode": {
    "name": "ipython",
    "version": 3
   },
   "file_extension": ".py",
   "mimetype": "text/x-python",
   "name": "python",
   "nbconvert_exporter": "python",
   "pygments_lexer": "ipython3",
   "version": "3.6.8"
  }
 },
 "nbformat": 4,
 "nbformat_minor": 2
}
